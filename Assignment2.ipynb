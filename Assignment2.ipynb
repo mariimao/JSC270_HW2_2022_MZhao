{
  "nbformat": 4,
  "nbformat_minor": 0,
  "metadata": {
    "colab": {
      "provenance": [],
      "authorship_tag": "ABX9TyPmjWkDsMTCnP3ehYu0OJAj",
      "include_colab_link": true
    },
    "kernelspec": {
      "name": "python3",
      "display_name": "Python 3"
    },
    "language_info": {
      "name": "python"
    }
  },
  "cells": [
    {
      "cell_type": "markdown",
      "metadata": {
        "id": "view-in-github",
        "colab_type": "text"
      },
      "source": [
        "<a href=\"https://colab.research.google.com/github/mariimao/JSC270_HW2_2022_MZhao/blob/main/Assignment2.ipynb\" target=\"_parent\"><img src=\"https://colab.research.google.com/assets/colab-badge.svg\" alt=\"Open In Colab\"/></a>"
      ]
    },
    {
      "cell_type": "markdown",
      "source": [
        "# JSC270 Assignment 2\n",
        "Here is the [link](https://github.com/mariimao/JSC270_HW2_2022_MZhao) to my GitHub repo. Below are the import statements copied from the [starter code](https://github.com/UofT-JSC270/JSC270_HW2)."
      ],
      "metadata": {
        "id": "p10qfvLp2Lhv"
      }
    },
    {
      "cell_type": "code",
      "execution_count": 130,
      "metadata": {
        "id": "EE8J8HxyboTi"
      },
      "outputs": [],
      "source": [
        "# Import libraries\n",
        "import pandas as pd\n",
        "import numpy as np\n",
        "import matplotlib.pyplot as plt\n",
        "import seaborn as sns\n",
        "from scipy import stats\n",
        "import statsmodels.api as sm\n",
        "import statsmodels.formula.api as smf"
      ]
    },
    {
      "cell_type": "code",
      "source": [
        "# Import data\n",
        "df = pd.read_csv('https://archive.ics.uci.edu/ml/machine-learning-databases/adult/adult.data',\n",
        "                       header=None)\n",
        "df.columns = ['age','workclass','fnlwgt','education','education_num','marital_status',\n",
        "                    'occupation','relationship','race','sex','capital_gain','capital_loss',\n",
        "                    'hours_per_week','native_country','gross_income_group']"
      ],
      "metadata": {
        "id": "_PQI3ODP24yz"
      },
      "execution_count": 125,
      "outputs": []
    },
    {
      "cell_type": "markdown",
      "source": [
        "## Initial Data Exploration"
      ],
      "metadata": {
        "id": "hbgOUPql5juq"
      }
    },
    {
      "cell_type": "code",
      "source": [
        "# @title 1. Columns of the data\n",
        "\n",
        "# Print basic info\n",
        "df.info()"
      ],
      "metadata": {
        "id": "ydiO7y4o6zGI",
        "outputId": "e808e1e1-d3c4-4565-8ebf-5a225ed018ba",
        "colab": {
          "base_uri": "https://localhost:8080/"
        }
      },
      "execution_count": 126,
      "outputs": [
        {
          "output_type": "stream",
          "name": "stdout",
          "text": [
            "<class 'pandas.core.frame.DataFrame'>\n",
            "RangeIndex: 32561 entries, 0 to 32560\n",
            "Data columns (total 15 columns):\n",
            " #   Column              Non-Null Count  Dtype \n",
            "---  ------              --------------  ----- \n",
            " 0   age                 32561 non-null  int64 \n",
            " 1   workclass           32561 non-null  object\n",
            " 2   fnlwgt              32561 non-null  int64 \n",
            " 3   education           32561 non-null  object\n",
            " 4   education_num       32561 non-null  int64 \n",
            " 5   marital_status      32561 non-null  object\n",
            " 6   occupation          32561 non-null  object\n",
            " 7   relationship        32561 non-null  object\n",
            " 8   race                32561 non-null  object\n",
            " 9   sex                 32561 non-null  object\n",
            " 10  capital_gain        32561 non-null  int64 \n",
            " 11  capital_loss        32561 non-null  int64 \n",
            " 12  hours_per_week      32561 non-null  int64 \n",
            " 13  native_country      32561 non-null  object\n",
            " 14  gross_income_group  32561 non-null  object\n",
            "dtypes: int64(6), object(9)\n",
            "memory usage: 3.7+ MB\n"
          ]
        }
      ]
    },
    {
      "cell_type": "code",
      "source": [
        "# @title 2. Missing values\n",
        "# missing values are indicated with ? as stated in the text description\n",
        "\n",
        "# go through each column and count the number of '?' occurences\n",
        "for column in df.columns:\n",
        "    count = (df[column].values =='?').sum()\n",
        "    # need to convert to string\n",
        "    count = (df[column].astype(str).str.strip() =='?').sum()\n",
        "    print(f\"Column {column} has {count} '?' values.\")\n",
        "    df[column] = df[column].astype(str).str.strip().replace('?', np.nan)\n",
        "\n",
        "# check that we've replaced values with a null\n",
        "df.info()"
      ],
      "metadata": {
        "id": "jZjG0JaI82uK",
        "outputId": "fe0643eb-37f0-4688-bacc-ceb722a4b152",
        "colab": {
          "base_uri": "https://localhost:8080/"
        }
      },
      "execution_count": 128,
      "outputs": [
        {
          "output_type": "stream",
          "name": "stdout",
          "text": [
            "Column age has 0 '?' values.\n",
            "Column workclass has 1836 '?' values.\n",
            "Column fnlwgt has 0 '?' values.\n",
            "Column education has 0 '?' values.\n",
            "Column education_num has 0 '?' values.\n",
            "Column marital_status has 0 '?' values.\n",
            "Column occupation has 1843 '?' values.\n",
            "Column relationship has 0 '?' values.\n",
            "Column race has 0 '?' values.\n",
            "Column sex has 0 '?' values.\n",
            "Column capital_gain has 0 '?' values.\n",
            "Column capital_loss has 0 '?' values.\n",
            "Column hours_per_week has 0 '?' values.\n",
            "Column native_country has 583 '?' values.\n",
            "Column gross_income_group has 0 '?' values.\n",
            "<class 'pandas.core.frame.DataFrame'>\n",
            "RangeIndex: 32561 entries, 0 to 32560\n",
            "Data columns (total 15 columns):\n",
            " #   Column              Non-Null Count  Dtype \n",
            "---  ------              --------------  ----- \n",
            " 0   age                 32561 non-null  object\n",
            " 1   workclass           30725 non-null  object\n",
            " 2   fnlwgt              32561 non-null  object\n",
            " 3   education           32561 non-null  object\n",
            " 4   education_num       32561 non-null  object\n",
            " 5   marital_status      32561 non-null  object\n",
            " 6   occupation          30718 non-null  object\n",
            " 7   relationship        32561 non-null  object\n",
            " 8   race                32561 non-null  object\n",
            " 9   sex                 32561 non-null  object\n",
            " 10  capital_gain        32561 non-null  object\n",
            " 11  capital_loss        32561 non-null  object\n",
            " 12  hours_per_week      32561 non-null  object\n",
            " 13  native_country      31978 non-null  object\n",
            " 14  gross_income_group  32561 non-null  object\n",
            "dtypes: object(15)\n",
            "memory usage: 3.7+ MB\n"
          ]
        }
      ]
    },
    {
      "cell_type": "code",
      "source": [
        "# @title 3. Data transformation and table\n",
        "\n",
        "# Plot histogram of bore\n",
        "plt.hist(num_data.bore, bins = 12)\n",
        "plt.title('Histogram of Bore (Engine Cylinder Diameter)')\n",
        "plt.xlabel('Bore (Inches)')\n",
        "plt.ylabel('Relative Frequency')\n",
        "plt.show()\n"
      ],
      "metadata": {
        "id": "s-OGpEH38-sr"
      },
      "execution_count": null,
      "outputs": []
    },
    {
      "cell_type": "code",
      "source": [
        "#@title 4. Explore distribution of fnlwgt"
      ],
      "metadata": {
        "id": "1jisMKqO9FOV"
      },
      "execution_count": null,
      "outputs": []
    },
    {
      "cell_type": "markdown",
      "source": [
        "## Correlation"
      ],
      "metadata": {
        "id": "EslZhyeU-r1z"
      }
    },
    {
      "cell_type": "code",
      "source": [
        "#@title 1. Variable correlation"
      ],
      "metadata": {
        "id": "apMrTp-E-mLN"
      },
      "execution_count": null,
      "outputs": []
    },
    {
      "cell_type": "code",
      "source": [
        "#@title 2. Correlation coefficient"
      ],
      "metadata": {
        "id": "VVrMcJO6_BIa"
      },
      "execution_count": null,
      "outputs": []
    },
    {
      "cell_type": "code",
      "source": [
        "#@title 3. Expected results"
      ],
      "metadata": {
        "id": "_7l9vGui_Ba2"
      },
      "execution_count": null,
      "outputs": []
    },
    {
      "cell_type": "code",
      "source": [
        "#@title 4. Covariance matrix"
      ],
      "metadata": {
        "id": "OXdZmkMl_BkK"
      },
      "execution_count": null,
      "outputs": []
    },
    {
      "cell_type": "markdown",
      "source": [
        "## Regression"
      ],
      "metadata": {
        "id": "hlJG48JX_Qsn"
      }
    },
    {
      "cell_type": "code",
      "source": [
        "#@title 1. Explanation of hours_per_week regression"
      ],
      "metadata": {
        "id": "Kv2-B0DI_Uuy"
      },
      "execution_count": null,
      "outputs": []
    },
    {
      "cell_type": "code",
      "source": [
        "#@title 2. Control variable"
      ],
      "metadata": {
        "id": "J5dBGvF6_hN1"
      },
      "execution_count": null,
      "outputs": []
    },
    {
      "cell_type": "code",
      "source": [
        "#@title 3. Model comparison"
      ],
      "metadata": {
        "id": "vasPA1dA_jdG"
      },
      "execution_count": null,
      "outputs": []
    }
  ]
}