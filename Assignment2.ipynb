{
  "nbformat": 4,
  "nbformat_minor": 0,
  "metadata": {
    "colab": {
      "provenance": [],
      "toc_visible": true,
      "authorship_tag": "ABX9TyMuHLMPiftDGpCqE8wLKUjs",
      "include_colab_link": true
    },
    "kernelspec": {
      "name": "python3",
      "display_name": "Python 3"
    },
    "language_info": {
      "name": "python"
    }
  },
  "cells": [
    {
      "cell_type": "markdown",
      "metadata": {
        "id": "view-in-github",
        "colab_type": "text"
      },
      "source": [
        "<a href=\"https://colab.research.google.com/github/mariimao/JSC270_HW2_2022_MZhao/blob/main/Assignment2.ipynb\" target=\"_parent\"><img src=\"https://colab.research.google.com/assets/colab-badge.svg\" alt=\"Open In Colab\"/></a>"
      ]
    },
    {
      "cell_type": "markdown",
      "source": [
        "# JSC270 Assignment 2\n",
        "Here is the [link](https://github.com/mariimao/JSC270_HW2_2022_MZhao) to my GitHub repo. Below are the import statements copied from the [starter code](https://github.com/UofT-JSC270/JSC270_HW2)."
      ],
      "metadata": {
        "id": "p10qfvLp2Lhv"
      }
    },
    {
      "cell_type": "code",
      "execution_count": 5,
      "metadata": {
        "id": "EE8J8HxyboTi"
      },
      "outputs": [],
      "source": [
        "# Import libraries\n",
        "import pandas as pd\n",
        "import numpy as np\n",
        "import matplotlib.pyplot as plt\n",
        "import seaborn as sns\n",
        "from scipy import stats\n",
        "import statsmodels.api as sm\n",
        "import statsmodels.formula.api as smf"
      ]
    },
    {
      "cell_type": "code",
      "source": [
        "# Import data\n",
        "income94 = pd.read_csv('https://archive.ics.uci.edu/ml/machine-learning-databases/adult/adult.data',\n",
        "                       header=None)\n",
        "income94.columns = ['age','workclass','fnlwgt','education','education_num','marital_status',\n",
        "                    'occupation','relationship','race','sex','capital_gain','capital_loss',\n",
        "                    'hours_per_week','native_country','gross_income_group']"
      ],
      "metadata": {
        "id": "_PQI3ODP24yz"
      },
      "execution_count": 6,
      "outputs": []
    },
    {
      "cell_type": "markdown",
      "source": [
        "## Initial Data Exploration"
      ],
      "metadata": {
        "id": "hbgOUPql5juq"
      }
    },
    {
      "cell_type": "code",
      "source": [
        "#@title 1. Columns of the data\n",
        "list(income94)"
      ],
      "metadata": {
        "id": "ydiO7y4o6zGI",
        "outputId": "405c590e-7414-4175-ecfd-851b79ec703c",
        "colab": {
          "base_uri": "https://localhost:8080/"
        }
      },
      "execution_count": 7,
      "outputs": [
        {
          "output_type": "execute_result",
          "data": {
            "text/plain": [
              "[0, 1, 2, 3, 4, 5, 6, 7, 8, 9, 10, 11, 12, 13, 14]"
            ]
          },
          "metadata": {},
          "execution_count": 7
        }
      ]
    },
    {
      "cell_type": "code",
      "source": [
        "#@title 2. Missing values\n"
      ],
      "metadata": {
        "id": "jZjG0JaI82uK"
      },
      "execution_count": null,
      "outputs": []
    },
    {
      "cell_type": "code",
      "source": [
        "#@title 3. Data transformation and table"
      ],
      "metadata": {
        "id": "s-OGpEH38-sr"
      },
      "execution_count": null,
      "outputs": []
    },
    {
      "cell_type": "code",
      "source": [
        "#@title 4. Explore distribution of fnlwgt"
      ],
      "metadata": {
        "id": "1jisMKqO9FOV"
      },
      "execution_count": null,
      "outputs": []
    },
    {
      "cell_type": "markdown",
      "source": [
        "## Correlation"
      ],
      "metadata": {
        "id": "EslZhyeU-r1z"
      }
    },
    {
      "cell_type": "code",
      "source": [
        "#@title 1. Variable correlation"
      ],
      "metadata": {
        "id": "apMrTp-E-mLN"
      },
      "execution_count": null,
      "outputs": []
    },
    {
      "cell_type": "code",
      "source": [
        "#@title 2. Correlation coefficient"
      ],
      "metadata": {
        "id": "VVrMcJO6_BIa"
      },
      "execution_count": null,
      "outputs": []
    },
    {
      "cell_type": "code",
      "source": [
        "#@title 3. Expected results"
      ],
      "metadata": {
        "id": "_7l9vGui_Ba2"
      },
      "execution_count": null,
      "outputs": []
    },
    {
      "cell_type": "code",
      "source": [
        "#@title 4. Covariance matrix"
      ],
      "metadata": {
        "id": "OXdZmkMl_BkK"
      },
      "execution_count": null,
      "outputs": []
    },
    {
      "cell_type": "markdown",
      "source": [
        "## Regression"
      ],
      "metadata": {
        "id": "hlJG48JX_Qsn"
      }
    },
    {
      "cell_type": "code",
      "source": [
        "#@title 1. Explanation of hours_per_week regression"
      ],
      "metadata": {
        "id": "Kv2-B0DI_Uuy"
      },
      "execution_count": null,
      "outputs": []
    },
    {
      "cell_type": "code",
      "source": [
        "#@title 2. Control variable"
      ],
      "metadata": {
        "id": "J5dBGvF6_hN1"
      },
      "execution_count": null,
      "outputs": []
    },
    {
      "cell_type": "code",
      "source": [
        "#@title 3. Model comparison"
      ],
      "metadata": {
        "id": "vasPA1dA_jdG"
      },
      "execution_count": null,
      "outputs": []
    }
  ]
}